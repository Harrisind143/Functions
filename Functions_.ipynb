{
  "nbformat": 4,
  "nbformat_minor": 0,
  "metadata": {
    "colab": {
      "provenance": []
    },
    "kernelspec": {
      "name": "python3",
      "display_name": "Python 3"
    },
    "language_info": {
      "name": "python"
    }
  },
  "cells": [
    {
      "cell_type": "markdown",
      "source": [
        "1. What is the difference between a function and a method in Python?\n",
        "\n",
        " Functions exist independently and are defined using def.\n",
        "\n",
        " Methods are functions that are part of a class and are called on objects.\n",
        "\n",
        " Methods can modify object data (using self in instance methods)."
      ],
      "metadata": {
        "id": "iAtuIL1GsNK7"
      }
    },
    {
      "cell_type": "markdown",
      "source": [
        "2. Explain the concept of function arguments and parameters in Python.\n",
        "\n",
        "  In Python, parameters and arguments are used when defining and calling functions.\n",
        "\n",
        "  Parameter:\tA variable in a function definition that receives a value.\n",
        "\n",
        "  Argument:\tThe actual value passed to a function when calling it.\n",
        "  \n",
        "  eg:"
      ],
      "metadata": {
        "id": "P9nBBFg6x6Fj"
      }
    },
    {
      "cell_type": "code",
      "source": [
        "def greet(name):  # 'name' is a parameter\n",
        "    print(f\"Hello, {name}!\")\n",
        "\n",
        "greet(\"Harish\")  # \"Harish\" is an argument"
      ],
      "metadata": {
        "colab": {
          "base_uri": "https://localhost:8080/"
        },
        "id": "hffuWMixyfCy",
        "outputId": "0bbfce86-aaa5-4648-c54c-5b2f4c41cc0b"
      },
      "execution_count": 12,
      "outputs": [
        {
          "output_type": "stream",
          "name": "stdout",
          "text": [
            "Hello, Harish!\n"
          ]
        }
      ]
    },
    {
      "cell_type": "markdown",
      "source": [
        "*  Types of Function Arguments in Python\n",
        "\n",
        "     Positional Arguments (Order matters)\n",
        "\n",
        "     Keyword Arguments (Named arguments)\n",
        "\n",
        "     Default Arguments (Predefined values)\n",
        "\n",
        "     Variable-length Arguments (*args and **kwargs)"
      ],
      "metadata": {
        "id": "GVBGitRNzDYz"
      }
    },
    {
      "cell_type": "code",
      "source": [
        "#  positonal arguments\n",
        "#  Arguments are matched to parameters based on their position.\n",
        "def add(a, b):\n",
        "    return a + b\n",
        "\n",
        "print(add(5, 3))\n",
        "\n",
        "#Keyword Arguments\n",
        "#Arguments are matched to parameters based on their position.\n",
        "def introduce(name, age):\n",
        "    print(f\"My name is {name} and I am {age} years old.\")\n",
        "\n",
        "introduce(age=25, name=\"Bob\")\n",
        "\n",
        "# Default Arguments\n",
        "# If no value is passed, a default is used.\n",
        "def power(base, exponent=2):  # Default exponent is 2\n",
        "    return base ** exponent\n",
        "\n",
        "print(power(3))    # Uses default (3² = 9)\n",
        "print(power(3, 3))\n",
        "\n",
        "# Variable-Length Arguments (*args, **kwargs)\n",
        "#  *args (Multiple Positional Arguments)\n",
        "def total_sum(*numbers):\n",
        "    return sum(numbers)\n",
        "\n",
        "print(total_sum(2, 5, 7, 10))\n",
        "\n",
        " #**kwargs (Multiple Keyword Arguments)\n",
        "def display_info(**info):\n",
        "    for key, value in info.items():\n",
        "        print(f\"{key}: {value}\")\n",
        "\n",
        "display_info(name=\"Alice\", age=30, country=\"USA\")"
      ],
      "metadata": {
        "colab": {
          "base_uri": "https://localhost:8080/"
        },
        "id": "pCJ2ICKzzeep",
        "outputId": "220612b1-f2d2-481a-f437-698cb378251b"
      },
      "execution_count": 15,
      "outputs": [
        {
          "output_type": "stream",
          "name": "stdout",
          "text": [
            "8\n",
            "My name is Bob and I am 25 years old.\n",
            "9\n",
            "27\n",
            "24\n",
            "name: Alice\n",
            "age: 30\n",
            "country: USA\n"
          ]
        }
      ]
    },
    {
      "cell_type": "markdown",
      "source": [
        "3. What are the different ways to define and call a function in Python?\n",
        "  1. Regular Function Definition & Call\n",
        "The most common way to define a function is using the def keyword."
      ],
      "metadata": {
        "id": "mqATwuqW0q_l"
      }
    },
    {
      "cell_type": "code",
      "source": [
        "def greet(name):\n",
        "    return f\"Hello, {name}!\"\n",
        "\n",
        "#Function Call (Positional Argument):\n",
        "\n",
        "print(greet(\"Alice\"))"
      ],
      "metadata": {
        "colab": {
          "base_uri": "https://localhost:8080/"
        },
        "id": "TvYo2Bs608-3",
        "outputId": "8f29144b-f81e-44e3-8e09-d0f273a092d6"
      },
      "execution_count": 18,
      "outputs": [
        {
          "output_type": "stream",
          "name": "stdout",
          "text": [
            "Hello, Alice!\n"
          ]
        }
      ]
    },
    {
      "cell_type": "code",
      "source": [
        "# 2. Function with Default Arguments\n",
        "#  Assign default values to parameters.\n",
        "\n",
        "#Definition:\n",
        "\n",
        "def greet(name=\"Guest\"):\n",
        "    return f\"Hello, {name}!\"\n",
        "#Calls:\n",
        "\n",
        "print(greet())        # Output: Hello, Guest! (uses default)\n",
        "print(greet(\"Bob\"))   # Output: Hello, Bob! (overrides default)"
      ],
      "metadata": {
        "id": "x1B9Q1Rl1DjZ"
      },
      "execution_count": null,
      "outputs": []
    },
    {
      "cell_type": "code",
      "source": [
        "#3. Function with Keyword Arguments\n",
        "# Instead of passing arguments by position, you can explicitly name them.\n",
        "\n",
        "#Definition:\n",
        "\n",
        "def introduce(name, age):\n",
        "    return f\"My name is {name}, and I am {age} years old.\"\n",
        "\n",
        "print(introduce(age=26, name=\"Harish\"))  # Keyword arguments"
      ],
      "metadata": {
        "colab": {
          "base_uri": "https://localhost:8080/"
        },
        "id": "7Zh7RfMS1teW",
        "outputId": "bde80722-1d3a-46f4-a694-60b5cedc1f2a"
      },
      "execution_count": 22,
      "outputs": [
        {
          "output_type": "stream",
          "name": "stdout",
          "text": [
            "My name is Harish, and I am 26 years old.\n"
          ]
        }
      ]
    },
    {
      "cell_type": "code",
      "source": [
        "# 4. Function with Variable-Length Arguments\n",
        "# Using *args (Multiple Positional Arguments)\n",
        "# Allows passing multiple arguments as a tuple.\n",
        "def total_sum(*numbers):\n",
        "    return sum(numbers)\n",
        "\n",
        "print(total_sum(2, 5, 7, 10))"
      ],
      "metadata": {
        "colab": {
          "base_uri": "https://localhost:8080/"
        },
        "id": "KtS69o_K2Chf",
        "outputId": "1d7ce0de-cfc0-40f5-e094-1d995a8bdf77"
      },
      "execution_count": 23,
      "outputs": [
        {
          "output_type": "stream",
          "name": "stdout",
          "text": [
            "24\n"
          ]
        }
      ]
    },
    {
      "cell_type": "code",
      "source": [
        "#  Using **kwargs (Multiple Keyword Arguments)\n",
        "# Allows passing multiple keyword arguments as a dictionary.\n",
        "\n",
        "def display_info(**info):\n",
        "    for key, value in info.items():\n",
        "        print(f\"{key}: {value}\")\n",
        "\n",
        "display_info(name=\"Alice\", age=30, country=\"USA\")"
      ],
      "metadata": {
        "colab": {
          "base_uri": "https://localhost:8080/"
        },
        "id": "6OUyK-8i2X0P",
        "outputId": "468b38ee-49e4-4128-c093-9071065afff8"
      },
      "execution_count": 24,
      "outputs": [
        {
          "output_type": "stream",
          "name": "stdout",
          "text": [
            "name: Alice\n",
            "age: 30\n",
            "country: USA\n"
          ]
        }
      ]
    },
    {
      "cell_type": "code",
      "source": [
        " # 5. Lambda (Anonymous) Function\n",
        "\n",
        "square = lambda x: x * x\n",
        "print(square(5))"
      ],
      "metadata": {
        "colab": {
          "base_uri": "https://localhost:8080/"
        },
        "id": "QjGvBpVJ2hoE",
        "outputId": "d5f97822-7a03-4614-d4e3-a71749f3909d"
      },
      "execution_count": 25,
      "outputs": [
        {
          "output_type": "stream",
          "name": "stdout",
          "text": [
            "25\n"
          ]
        }
      ]
    },
    {
      "cell_type": "code",
      "source": [
        "# Function Call Inside Another Function\n",
        "\n",
        "def multiply(x, y):\n",
        "    return x * y\n",
        "\n",
        "def square_number(n):\n",
        "    return multiply(n, n)\n",
        "\n",
        "print(square_number(4))"
      ],
      "metadata": {
        "colab": {
          "base_uri": "https://localhost:8080/"
        },
        "id": "t42Mzh582t0M",
        "outputId": "4706134b-6d90-4b48-ba7b-36c3753f06e8"
      },
      "execution_count": 26,
      "outputs": [
        {
          "output_type": "stream",
          "name": "stdout",
          "text": [
            "16\n"
          ]
        }
      ]
    },
    {
      "cell_type": "code",
      "source": [
        "#7. Function Inside a Class (Method)\n",
        "\n",
        "class Person:\n",
        "    def __init__(self, name):\n",
        "        self.name = name\n",
        "\n",
        "    def greet(self):\n",
        "        return f\"Hello, my name is {self.name}!\"\n",
        "\n",
        "p = Person(\"Alice\")\n",
        "print(p.greet())"
      ],
      "metadata": {
        "colab": {
          "base_uri": "https://localhost:8080/"
        },
        "id": "mG0eb9CG27bk",
        "outputId": "a119e414-91cd-4583-e82a-3411fa8b1395"
      },
      "execution_count": 27,
      "outputs": [
        {
          "output_type": "stream",
          "name": "stdout",
          "text": [
            "Hello, my name is Alice!\n"
          ]
        }
      ]
    },
    {
      "cell_type": "markdown",
      "source": [
        "4. What is the purpose of the `return` statement in a Python function?\n",
        "\n",
        "   The return statement in Python is used to send a result back from a function to the caller. It allows a function to produce an output that can be used elsewhere in the program.\n",
        "\n",
        "  . Returning a Value from a Function\n",
        "   "
      ],
      "metadata": {
        "id": "F4NRG8Mp3Oak"
      }
    },
    {
      "cell_type": "code",
      "source": [
        "# 1. Returning a Value from a Function\n",
        "# A function can return a value using return.\n",
        "\n",
        "\n",
        "def add(a, b):\n",
        "    return a + b  # Returns the sum of a and b\n",
        "\n",
        "result = add(5, 3)\n",
        "print(result)  # Output: 8"
      ],
      "metadata": {
        "colab": {
          "base_uri": "https://localhost:8080/"
        },
        "id": "cVD7VK1j3vrU",
        "outputId": "97758a37-15cd-4bec-d152-eaa94a0e05ce"
      },
      "execution_count": 28,
      "outputs": [
        {
          "output_type": "stream",
          "name": "stdout",
          "text": [
            "8\n"
          ]
        }
      ]
    },
    {
      "cell_type": "code",
      "source": [
        " # 2. Returning Multiple Values\n",
        "   # Python functions can return multiple values as a tuple.\n",
        "\n",
        "def get_coordinates():\n",
        "    return 10, 20  # Returns two values\n",
        "\n",
        "x, y = get_coordinates()\n",
        "print(x, y)"
      ],
      "metadata": {
        "colab": {
          "base_uri": "https://localhost:8080/"
        },
        "id": "GxLBrepR348T",
        "outputId": "e3ccbe34-fdb5-4ca5-cd70-1f0708ea0908"
      },
      "execution_count": 30,
      "outputs": [
        {
          "output_type": "stream",
          "name": "stdout",
          "text": [
            "10 20\n"
          ]
        }
      ]
    },
    {
      "cell_type": "code",
      "source": [
        "#3. Using return in Conditional Statements\n",
        "# return different values based on conditions.\n",
        "\n",
        "\n",
        "def check_number(n):\n",
        "    if n > 0:\n",
        "        return \"Positive\"\n",
        "    elif n < 0:\n",
        "        return \"Negative\"\n",
        "    return \"Zero\"\n",
        "\n",
        "print(check_number(-5))"
      ],
      "metadata": {
        "colab": {
          "base_uri": "https://localhost:8080/"
        },
        "id": "nbWFLqwd5DUI",
        "outputId": "300f353c-a681-44f6-9ce8-365fe76bcf66"
      },
      "execution_count": 31,
      "outputs": [
        {
          "output_type": "stream",
          "name": "stdout",
          "text": [
            "Negative\n"
          ]
        }
      ]
    },
    {
      "cell_type": "code",
      "source": [
        "#4. Returning Nothing (None)\n",
        "# If return is used without a value, or if a function doesn’t have return, it returns None by default.\n",
        "\n",
        "def say_hello():\n",
        "    print(\"Hello!\")\n",
        "\n",
        "result = say_hello()\n",
        "print(result)  # Output: None"
      ],
      "metadata": {
        "colab": {
          "base_uri": "https://localhost:8080/"
        },
        "id": "9ixANk0-5N0D",
        "outputId": "901bb3ba-4301-4a9d-c348-f691f58d1e49"
      },
      "execution_count": 32,
      "outputs": [
        {
          "output_type": "stream",
          "name": "stdout",
          "text": [
            "Hello!\n",
            "None\n"
          ]
        }
      ]
    },
    {
      "cell_type": "code",
      "source": [
        "# 5. Returning a Function Result\n",
        "#  Functions can return other functions.\n",
        "\n",
        "def multiplier(n):\n",
        "    return lambda x: x * n  # Returns a function\n",
        "\n",
        "double = multiplier(2)\n",
        "print(double(5))"
      ],
      "metadata": {
        "colab": {
          "base_uri": "https://localhost:8080/"
        },
        "id": "y7k_f6Gx5wVk",
        "outputId": "11960ddb-eefe-469f-ce14-24630d1101a2"
      },
      "execution_count": 33,
      "outputs": [
        {
          "output_type": "stream",
          "name": "stdout",
          "text": [
            "10\n"
          ]
        }
      ]
    },
    {
      "cell_type": "markdown",
      "source": [
        "5. What are iterators in Python and how do they differ from iterables?\n",
        "  \n",
        "  An iterable is any Python object that can be looped over (e.g., lists, tuples, strings). It contains elements and provides an iterator when passed to iter().\n",
        "\n",
        "  An iterator is an object that remembers its state during iteration. It produces elements one at a time using the __next__() method (or next() function).\n"
      ],
      "metadata": {
        "id": "Z0H5E2Hb4m4k"
      }
    },
    {
      "cell_type": "code",
      "source": [
        "# Iterable (List)\n",
        "\n",
        "numbers = [1, 2, 3]  # List is an iterable\n",
        "\n",
        "for num in numbers:  # We can loop over it\n",
        "    print(num)\n",
        "\n",
        "# Lists, tuples, strings, etc., are iterables because they support iteration."
      ],
      "metadata": {
        "colab": {
          "base_uri": "https://localhost:8080/"
        },
        "id": "LuXKQAws6u7f",
        "outputId": "5079d6de-6c3a-44eb-a791-590c544c6860"
      },
      "execution_count": 34,
      "outputs": [
        {
          "output_type": "stream",
          "name": "stdout",
          "text": [
            "1\n",
            "2\n",
            "3\n"
          ]
        }
      ]
    },
    {
      "cell_type": "code",
      "source": [
        "#Convert an Iterable into an Iterator\n",
        "# We can turn an iterable into an iterator using iter().\n",
        "numbers = [1, 2, 3]\n",
        "iterator = iter(numbers)  # Convert list to iterator\n",
        "\n",
        "print(next(iterator))  # Output: 1\n",
        "print(next(iterator))  # Output: 2\n",
        "print(next(iterator))  # Output: 3\n",
        "# print(next(iterator)) # # Raises StopIteration (End of iteration)\n",
        "# iter() converts an iterable into an iterator.\n",
        "# next() retrieves the next value from an iterator.\n",
        "#  Once exhausted, iterators cannot be restarted."
      ],
      "metadata": {
        "colab": {
          "base_uri": "https://localhost:8080/"
        },
        "id": "unvSL6s_7KKO",
        "outputId": "c1e1e807-1e43-4ba3-d4de-1b7e584a1b03"
      },
      "execution_count": 35,
      "outputs": [
        {
          "output_type": "stream",
          "name": "stdout",
          "text": [
            "1\n",
            "2\n",
            "3\n"
          ]
        }
      ]
    },
    {
      "cell_type": "markdown",
      "source": [
        "6. Explain the concept of generators in Python and how they are defined.\n",
        "\n",
        "  A generator is a special type of iterator in Python that lets you iterate through a sequence one item at a time, on the fly, without storing the entire sequence in memory.\n",
        "\n",
        "  Generators use the yield keyword instead of return.Great for large datasets or infinite sequences"
      ],
      "metadata": {
        "id": "b1ff1DlL8zxY"
      }
    },
    {
      "cell_type": "code",
      "source": [
        "# Using a Generator Function:\n",
        "# Defined like a regular function, but with the yield keyword.\n",
        "\n",
        "\n",
        "def count_up_to(n):\n",
        "    i = 1\n",
        "    while i <= n:\n",
        "        yield i\n",
        "        i += 1\n",
        "gen = count_up_to(3)\n",
        "\n",
        "print(next(gen))  # Output: 1\n",
        "print(next(gen))  # Output: 2\n",
        "print(next(gen))  # Output: 3\n",
        "# print(next(gen))  # Raises StopIteration\n",
        "# Each call to next() resumes execution from where the last yield left off."
      ],
      "metadata": {
        "colab": {
          "base_uri": "https://localhost:8080/"
        },
        "id": "nQwodrlM9Thl",
        "outputId": "5e2d6024-e7f8-46a0-e512-45335482af6f"
      },
      "execution_count": 37,
      "outputs": [
        {
          "output_type": "stream",
          "name": "stdout",
          "text": [
            "1\n",
            "2\n",
            "3\n"
          ]
        }
      ]
    },
    {
      "cell_type": "markdown",
      "source": [
        "7. What are the advantages of using generators over regular functions?\n",
        "\n",
        "  1. Memory Efficiency\n",
        "Generators don’t store the entire sequence in memory.\n",
        "\n",
        "They generate items on the fly, which is super useful for large data sets or infinite sequences\n",
        "\n",
        " 2. Lazy Evaluation (On-Demand Execution)\n",
        "Values are produced only when needed.\n",
        "\n",
        "This reduces initial load time and improves performance"
      ],
      "metadata": {
        "id": "-dBrejHc9pHA"
      }
    },
    {
      "cell_type": "code",
      "source": [
        "gen = (x * x for x in range(1000000))\n",
        "print(next(gen))"
      ],
      "metadata": {
        "colab": {
          "base_uri": "https://localhost:8080/"
        },
        "id": "iTlsJw479_L4",
        "outputId": "1d0db758-7f53-479d-858a-58b1a05277c9"
      },
      "execution_count": 39,
      "outputs": [
        {
          "output_type": "stream",
          "name": "stdout",
          "text": [
            "0\n"
          ]
        }
      ]
    },
    {
      "cell_type": "markdown",
      "source": [
        "3. Simpler Syntax for Iterators\n",
        "Writing an iterator class requires defining __iter__() and __next__().\n",
        "\n",
        "A generator function can do the same thing with just a yield.\n",
        "\n",
        "4. Infinite Sequences\n",
        "Generators are perfect for sequences that never end, like Fibonacci numbers or live data streams.\n",
        "\n",
        "5. Improved Performance in Loops\n",
        "Generators yield one value at a time, looping through them is faster and less resource-intensive for large or streamed data."
      ],
      "metadata": {
        "id": "zvDDdKiY-Z5R"
      }
    },
    {
      "cell_type": "markdown",
      "source": [
        "8. What is a lambda function in Python and when is it typically used?\n",
        "\n",
        " A lambda function is a small, anonymous function defined with the lambda keyword.\n",
        " It can have any number of arguments, but only one expression.\n",
        "\n",
        " Syntax:\n",
        "\n",
        " lambda arguments: expression\n",
        "\n",
        " eg:\n"
      ],
      "metadata": {
        "id": "mmJZfCSQ_D1Z"
      }
    },
    {
      "cell_type": "code",
      "source": [
        "add = lambda x, y: x + y\n",
        "print(add(3, 5))"
      ],
      "metadata": {
        "colab": {
          "base_uri": "https://localhost:8080/"
        },
        "id": "zqJVqAeV_deS",
        "outputId": "066c7e4d-d9cc-4d27-f61d-bff08fa3af64"
      },
      "execution_count": 41,
      "outputs": [
        {
          "output_type": "stream",
          "name": "stdout",
          "text": [
            "8\n"
          ]
        }
      ]
    },
    {
      "cell_type": "markdown",
      "source": [
        "Lambda functions are used when you need a short, throwaway function — especially when passing functions as arguments."
      ],
      "metadata": {
        "id": "rFhAF9v3_pey"
      }
    },
    {
      "cell_type": "code",
      "source": [
        "# 1. With map()\n",
        "numbers = [1, 2, 3, 4]\n",
        "squares = list(map(lambda x: x ** 2, numbers))\n",
        "print(squares)\n",
        "\n",
        "# With filter()\n",
        "even = list(filter(lambda x: x % 2 == 0, numbers))\n",
        "print(even)\n",
        "\n",
        "# With sorted()\n",
        "\n",
        "students = [\n",
        "    {'name': 'Alice', 'age': 20},\n",
        "    {'name': 'Bob', 'age': 18},\n",
        "    {'name': 'Charlie', 'age': 22}\n",
        "]\n",
        "sorted_students = sorted(students, key=lambda x: x['age'])\n",
        "print(sorted_students)"
      ],
      "metadata": {
        "colab": {
          "base_uri": "https://localhost:8080/"
        },
        "id": "U9qdPgLK_rwz",
        "outputId": "e12665c1-27dd-45d5-bf01-fc6aef33d3ba"
      },
      "execution_count": 45,
      "outputs": [
        {
          "output_type": "stream",
          "name": "stdout",
          "text": [
            "[1, 4, 9, 16]\n",
            "[2, 4]\n",
            "[{'name': 'Bob', 'age': 18}, {'name': 'Alice', 'age': 20}, {'name': 'Charlie', 'age': 22}]\n"
          ]
        }
      ]
    },
    {
      "cell_type": "markdown",
      "source": [
        "9. Explain the purpose and usage of the `map()` function in Python?\n",
        "   \n",
        "   The map() function is used to apply a function to every item in an iterable (like a list, tuple, etc.) and return a map object (which is an iterator).\n",
        "\n",
        "   syntax:\n",
        "\n",
        "   map(function,Iterable)\n",
        "   \n",
        "  function: A function to apply (can be lambda or defined with def)\n",
        "\n",
        "  iterable: A sequence like a list, tuple, etc."
      ],
      "metadata": {
        "id": "AMAZ_dM8A-v8"
      }
    },
    {
      "cell_type": "code",
      "source": [
        "# 1: Using map() with a lambda function\n",
        "\n",
        "numbers = [1, 2, 3, 4]\n",
        "squared = map(lambda x: x ** 2, numbers)\n",
        "print(list(squared))\n",
        "\n",
        "# 2: Using map() with a defined function\n",
        "\n",
        "def to_upper(word):\n",
        "    return word.upper()\n",
        "\n",
        "words = ['hello', 'world']\n",
        "result = map(to_upper, words)\n",
        "print(list(result))\n",
        "\n",
        "#3: Multiple Iterables\n",
        "#map() can work with multiple iterables, applying the function to corresponding elements:\n",
        "\n",
        "a = [1, 2, 3]\n",
        "b = [4, 5, 6]\n",
        "sums = map(lambda x, y: x + y, a, b)\n",
        "print(list(sums))"
      ],
      "metadata": {
        "colab": {
          "base_uri": "https://localhost:8080/"
        },
        "id": "JkbGrqUfBqLZ",
        "outputId": "9755c200-f19d-47f5-d7be-2b03965a49d4"
      },
      "execution_count": 48,
      "outputs": [
        {
          "output_type": "stream",
          "name": "stdout",
          "text": [
            "[1, 4, 9, 16]\n",
            "['HELLO', 'WORLD']\n",
            "[5, 7, 9]\n"
          ]
        }
      ]
    },
    {
      "cell_type": "markdown",
      "source": [
        "**When to Use map()**\n",
        "\n",
        "When  transform each element of an iterable\n",
        "\n",
        "Ideal when used with lambda functions\n",
        "\n",
        "Useful for data preprocessing (e.g., converting strings to numbers)"
      ],
      "metadata": {
        "id": "AvFvi7r_DQ4W"
      }
    },
    {
      "cell_type": "markdown",
      "source": [
        "10. What is the difference between `map()`, `reduce()`, and `filter()` functions in Python?\n",
        "\n",
        "  1. map() – Transform Items\n",
        "     Purpose: Apply a function to each element in an iterable."
      ],
      "metadata": {
        "id": "BrU7trAqC1Dl"
      }
    },
    {
      "cell_type": "code",
      "source": [
        "nums = [1, 2, 3, 4]\n",
        "squared = list(map(lambda x: x**2, nums))\n",
        "print(squared)"
      ],
      "metadata": {
        "colab": {
          "base_uri": "https://localhost:8080/"
        },
        "id": "t_E4wL7WDzD2",
        "outputId": "f7fa23dd-e886-42d3-b1af-3043ea04cdcf"
      },
      "execution_count": 49,
      "outputs": [
        {
          "output_type": "stream",
          "name": "stdout",
          "text": [
            "[1, 4, 9, 16]\n"
          ]
        }
      ]
    },
    {
      "cell_type": "markdown",
      "source": [
        " 2. filter() – Select Items\n",
        "    Purpose: Keep only elements where the function returns True."
      ],
      "metadata": {
        "id": "WrDFHXWuD3pB"
      }
    },
    {
      "cell_type": "code",
      "source": [
        "nums = [1, 2, 3, 4, 5, 6]\n",
        "even = list(filter(lambda x: x % 2 == 0, nums))\n",
        "print(even)"
      ],
      "metadata": {
        "colab": {
          "base_uri": "https://localhost:8080/"
        },
        "id": "jYr_0YOZEC1w",
        "outputId": "20fd4422-e51c-4c9b-e66a-99f792862ed5"
      },
      "execution_count": 50,
      "outputs": [
        {
          "output_type": "stream",
          "name": "stdout",
          "text": [
            "[2, 4, 6]\n"
          ]
        }
      ]
    },
    {
      "cell_type": "code",
      "source": [
        "#3. reduce() – Combine Items\n",
        "\n",
        "from functools import reduce\n",
        "\n",
        "nums = [1, 2, 3, 4]\n",
        "total = reduce(lambda x, y: x + y, nums)\n",
        "print(total)"
      ],
      "metadata": {
        "id": "AbKxuF4PEHuV"
      },
      "execution_count": null,
      "outputs": []
    },
    {
      "cell_type": "markdown",
      "source": [
        "11. Using pen & Paper write the internal mechanism for sum operation using  reduce function on this given\n",
        "list:[47,11,42,13];\n",
        "https://drive.google.com/file/d/1aSIQsg_h_EWUOfIini7_MgzEeFw6EYSB/view?usp=drive_link\n"
      ],
      "metadata": {
        "id": "MSmdx-7Mtouk"
      }
    },
    {
      "cell_type": "code",
      "execution_count": 1,
      "metadata": {
        "colab": {
          "base_uri": "https://localhost:8080/"
        },
        "id": "7Xn0FJYWYf-g",
        "outputId": "7a2e8a47-15b6-4ce2-96f2-15da0294f61c"
      },
      "outputs": [
        {
          "output_type": "stream",
          "name": "stdout",
          "text": [
            "30\n"
          ]
        }
      ],
      "source": [
        "#Write a Python function that takes a list of numbers as input and returns the sum of all even numbers\n",
        "#inthe list\n",
        "my_list = [1, 2, 3, 4, 5, 6, 7, 8, 9, 10]\n",
        "def sum_of_even_numbers(numbers):\n",
        "    sum = 0\n",
        "    for num in numbers:\n",
        "        if num % 2 == 0:\n",
        "            sum += num\n",
        "    return sum\n",
        "print(sum_of_even_numbers(my_list))\n"
      ]
    },
    {
      "cell_type": "code",
      "source": [
        "#2. Create a Python function that accepts a string and returns the reverse of that string.\n",
        "def reverse_string(string):\n",
        "    return string[::-1]\n",
        "print(reverse_string(\"hello\"))"
      ],
      "metadata": {
        "colab": {
          "base_uri": "https://localhost:8080/"
        },
        "id": "mCnoc9c-nsIq",
        "outputId": "070fcedf-bf3f-4e4d-f45a-2a8d04f1e2ed"
      },
      "execution_count": 2,
      "outputs": [
        {
          "output_type": "stream",
          "name": "stdout",
          "text": [
            "olleh\n"
          ]
        }
      ]
    },
    {
      "cell_type": "code",
      "source": [
        "#3. Implement a Python function that takes a list of integers and returns a new list containing the squares of\n",
        "#each number\n",
        "my_list = [1, 2, 3, 4, 5]\n",
        "def square_numbers(numbers):\n",
        "    squares = []\n",
        "    for num in numbers:\n",
        "        squares.append(num**2)\n",
        "    return squares\n",
        "print(square_numbers(my_list))"
      ],
      "metadata": {
        "colab": {
          "base_uri": "https://localhost:8080/"
        },
        "id": "m9WcYwMToq90",
        "outputId": "2863c5bb-4f4a-4b51-a84f-63698c0d7c45"
      },
      "execution_count": 5,
      "outputs": [
        {
          "output_type": "stream",
          "name": "stdout",
          "text": [
            "[1, 4, 9, 16, 25]\n"
          ]
        }
      ]
    },
    {
      "cell_type": "code",
      "source": [
        "#3. Implement a Python function that takes a list of integers and returns a new list containing the squares of\n",
        "#each number\n",
        "my_list = [1, 2, 3, 4, 5]\n",
        "def square_numbers(number):\n",
        "  return number**2\n",
        "print(list(map(square_numbers, my_list)))\n",
        ""
      ],
      "metadata": {
        "colab": {
          "base_uri": "https://localhost:8080/"
        },
        "id": "a0We3Uw4pvgP",
        "outputId": "9cf69208-0380-4346-9854-68cee743ae23"
      },
      "execution_count": 6,
      "outputs": [
        {
          "output_type": "stream",
          "name": "stdout",
          "text": [
            "[1, 4, 9, 16, 25]\n"
          ]
        }
      ]
    },
    {
      "cell_type": "markdown",
      "source": [],
      "metadata": {
        "id": "K5Ae7oO_yeeA"
      }
    },
    {
      "cell_type": "code",
      "source": [
        "#4. Write a Python function that checks if a given number is prime or not from 1 to 200.\n",
        "def is_prime(n):\n",
        "    \"\"\"Check if a number is prime.\"\"\"\n",
        "    if n < 2:\n",
        "        return False\n",
        "    for i in range(2,n):\n",
        "        if n % i == 0:\n",
        "            return False\n",
        "    return True\n",
        "\n",
        "# Check numbers from 1 to 200\n",
        "prime_numbers = [n for n in range(1, 201) if is_prime(n)]\n",
        "print(\"Prime numbers from 1 to 200:\", prime_numbers)"
      ],
      "metadata": {
        "colab": {
          "base_uri": "https://localhost:8080/"
        },
        "id": "HYGGbax8t_Cc",
        "outputId": "b0f54c59-b8d7-46af-ead1-06cb0a2d3d7d"
      },
      "execution_count": 23,
      "outputs": [
        {
          "output_type": "stream",
          "name": "stdout",
          "text": [
            "Prime numbers from 1 to 200: [2, 3, 5, 7, 11, 13, 17, 19, 23, 29, 31, 37, 41, 43, 47, 53, 59, 61, 67, 71, 73, 79, 83, 89, 97, 101, 103, 107, 109, 113, 127, 131, 137, 139, 149, 151, 157, 163, 167, 173, 179, 181, 191, 193, 197, 199]\n"
          ]
        }
      ]
    },
    {
      "cell_type": "code",
      "source": [
        "#5 Create an iterator class in Python that generates the Fibonacci sequence up to a specified number of\n",
        "#terms.\n",
        "class FibonacciIterator:\n",
        "    def __init__(self, max_terms):\n",
        "        self.max_terms = max_terms  # Total number of Fibonacci terms to generate\n",
        "        self.count = 0              # Counter to track how many terms are generated so far\n",
        "        self.a = 0                  # First Fibonacci number\n",
        "        self.b = 1                  # Second Fibonacci number\n",
        "    def __iter__(self):\n",
        "        return self\n",
        "\n",
        "    def __next__(self):\n",
        "        if self.count >= self.max_terms:\n",
        "            raise StopIteration\n",
        "\n",
        "        if self.count == 0:\n",
        "            self.count += 1\n",
        "            return self.a\n",
        "        elif self.count == 1:\n",
        "            self.count += 1\n",
        "            return self.b\n",
        "        else:\n",
        "            self.a, self.b = self.b, self.a + self.b\n",
        "            self.count += 1\n",
        "            return self.b\n",
        "\n",
        "fib = FibonacciIterator(10)\n",
        "for num in fib:\n",
        "    print(num, end=' ')"
      ],
      "metadata": {
        "colab": {
          "base_uri": "https://localhost:8080/"
        },
        "id": "2Pu7kyfN0kQW",
        "outputId": "e0384387-c567-4d01-86b0-aaefafb45b07"
      },
      "execution_count": 3,
      "outputs": [
        {
          "output_type": "stream",
          "name": "stdout",
          "text": [
            "0 1 1 2 3 5 8 13 21 34 "
          ]
        }
      ]
    },
    {
      "cell_type": "code",
      "source": [
        "# 6. Write a generator function in Python that yields the powers of 2 up to a given exponent.\n",
        "def powers_of_2(exponent):\n",
        "    for i in range(exponent + 1):\n",
        "        yield 2 ** i\n",
        "for power in powers_of_2(5):\n",
        "    print(power)"
      ],
      "metadata": {
        "colab": {
          "base_uri": "https://localhost:8080/"
        },
        "id": "3m011jN7hj2h",
        "outputId": "2bc36d70-3f8d-4ffd-b8bf-628b290d3676"
      },
      "execution_count": 4,
      "outputs": [
        {
          "output_type": "stream",
          "name": "stdout",
          "text": [
            "1\n",
            "2\n",
            "4\n",
            "8\n",
            "16\n",
            "32\n"
          ]
        }
      ]
    },
    {
      "cell_type": "code",
      "source": [
        "#7. Implement a generator function that reads a file line by line and yields each line as a string.\n",
        "def read_file_lines(file_path):\n",
        "    with open(file_path, 'r') as file:\n",
        "        for line in file:\n",
        "            yield line.strip()"
      ],
      "metadata": {
        "id": "2-Z7TLzViQGb"
      },
      "execution_count": 5,
      "outputs": []
    },
    {
      "cell_type": "code",
      "source": [
        "#8. Use a lambda function in Python to sort a list of tuples based on the second element of each tuple.\n",
        "my_list = [(1, 5), (3, 2), (2, 8), (4, 1)]\n",
        "sorted_list = sorted(my_list, key=lambda x: x[1])\n",
        "print(sorted_list)"
      ],
      "metadata": {
        "colab": {
          "base_uri": "https://localhost:8080/"
        },
        "id": "_9g3KJnkjW_v",
        "outputId": "9d323ee6-cadd-4755-b4c5-5571a798761f"
      },
      "execution_count": 6,
      "outputs": [
        {
          "output_type": "stream",
          "name": "stdout",
          "text": [
            "[(4, 1), (3, 2), (1, 5), (2, 8)]\n"
          ]
        }
      ]
    },
    {
      "cell_type": "code",
      "source": [
        "# 9.Write a Python program that uses `map()` to convert a list of temperatures from Celsius to Fahrenheit.\n",
        "# List of temperatures in Celsius\n",
        "celsius_temps = [0, 20, 37, 100]\n",
        "\n",
        "# Conversion formula: F = C * 9/5 + 32\n",
        "fahrenheit_temps = list(map(lambda c: c * 9/5 + 32, celsius_temps))\n",
        "\n",
        "# Output the result\n",
        "print(\"Fahrenheit temperatures:\", fahrenheit_temps)"
      ],
      "metadata": {
        "colab": {
          "base_uri": "https://localhost:8080/"
        },
        "id": "kbFr6pW-nqOI",
        "outputId": "2256fdfc-3a5c-4d76-a32d-1bcc95168079"
      },
      "execution_count": 7,
      "outputs": [
        {
          "output_type": "stream",
          "name": "stdout",
          "text": [
            "Fahrenheit temperatures: [32.0, 68.0, 98.6, 212.0]\n"
          ]
        }
      ]
    },
    {
      "cell_type": "code",
      "source": [
        "#10. Create a Python program that uses `filter()` to remove all the vowels from a given string.\n",
        "def remove_vowels(input_string):\n",
        "    vowels = 'aeiouAEIOU'\n",
        "    return ''.join(filter(lambda char: char not in vowels, input_string))\n",
        "\n",
        "# Example usage\n",
        "text = \"Hello, World!\"\n",
        "result = remove_vowels(text)\n",
        "\n",
        "print(\"Original string:\", text)\n",
        "print(\"Without vowels:\", result)"
      ],
      "metadata": {
        "colab": {
          "base_uri": "https://localhost:8080/"
        },
        "id": "H0lB7RZyoP3c",
        "outputId": "6d1f4901-35ac-474c-9878-682d4797166f"
      },
      "execution_count": 8,
      "outputs": [
        {
          "output_type": "stream",
          "name": "stdout",
          "text": [
            "Original string: Hello, World!\n",
            "Without vowels: Hll, Wrld!\n"
          ]
        }
      ]
    },
    {
      "cell_type": "code",
      "source": [
        "orders = [\n",
        "    (34587, \"Learning Python, Mark Lutz\", 4, 40.95),\n",
        "    (98762, \"Programming Python, Mark Lutz\", 5, 56.80),\n",
        "    (77226, \"Head First Python, Paul Barry\", 3, 32.95),\n",
        "    (88112, \"Einführung in Python3, Bernd Klein\", 3, 24.99)\n",
        "]\n",
        "\n",
        "# Using map() and lambda function\n",
        "processed_orders = list(map(lambda order:\n",
        "    (order[0], order[2] * order[3] + (10 if order[2] * order[3] < 100 else 0)), orders))\n",
        "\n",
        "# Output result\n",
        "print(processed_orders)"
      ],
      "metadata": {
        "colab": {
          "base_uri": "https://localhost:8080/"
        },
        "id": "C6q6wrcAp1dl",
        "outputId": "980cfbce-84b3-4649-b915-d91631ecd3ea"
      },
      "execution_count": 9,
      "outputs": [
        {
          "output_type": "stream",
          "name": "stdout",
          "text": [
            "[(34587, 163.8), (98762, 284.0), (77226, 108.85000000000001), (88112, 84.97)]\n"
          ]
        }
      ]
    }
  ]
}